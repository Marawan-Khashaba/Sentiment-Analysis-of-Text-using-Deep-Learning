{
  "nbformat": 4,
  "nbformat_minor": 0,
  "metadata": {
    "colab": {
      "name": "Copy of LSTM FINAL 0.ipynb",
      "provenance": []
    },
    "kernelspec": {
      "name": "python3",
      "display_name": "Python 3"
    },
    "language_info": {
      "name": "python"
    }
  },
  "cells": [
    {
      "cell_type": "markdown",
      "metadata": {
        "id": "n21uNd8Upkkp"
      },
      "source": [
        "# Importing the Libraries\n",
        "\n"
      ]
    },
    {
      "cell_type": "code",
      "metadata": {
        "id": "TUoRwUNOp-_E"
      },
      "source": [
        "import numpy as np\n",
        "import matplotlib.pyplot as plt\n",
        "import pandas as pd"
      ],
      "execution_count": 1,
      "outputs": []
    },
    {
      "cell_type": "markdown",
      "metadata": {
        "id": "zVmCBaVvpp6F"
      },
      "source": [
        "# Importing the dataset"
      ]
    },
    {
      "cell_type": "code",
      "metadata": {
        "colab": {
          "base_uri": "https://localhost:8080/"
        },
        "id": "PBHE5EjAqBcv",
        "outputId": "409b25ab-a85f-4ee0-d8f5-e990ec3788d5"
      },
      "source": [
        "dataset = pd.read_csv(\"IMDB Dataset.csv\")\n",
        "dataset.head()\n",
        "dataset.isnull().values.any()\n",
        "\n",
        "dataset.shape"
      ],
      "execution_count": 2,
      "outputs": [
        {
          "output_type": "execute_result",
          "data": {
            "text/plain": [
              "(50000, 2)"
            ]
          },
          "metadata": {},
          "execution_count": 2
        }
      ]
    },
    {
      "cell_type": "markdown",
      "metadata": {
        "id": "Ik8idbZDptfu"
      },
      "source": [
        "# Cleaning the data"
      ]
    },
    {
      "cell_type": "code",
      "metadata": {
        "id": "05v0HWEQqpw5"
      },
      "source": [
        "import re\n",
        "\n",
        "TAG_RE = re.compile(r'<[^>]+>')\n",
        "\n",
        "def remove_tags(text):\n",
        "    return TAG_RE.sub('', text)"
      ],
      "execution_count": 3,
      "outputs": []
    },
    {
      "cell_type": "code",
      "metadata": {
        "id": "m4S9uyhcl1S6"
      },
      "source": [
        "def preprocess_text(sen):\n",
        "    # Removing html tags\n",
        "    sentence = remove_tags(sen)\n",
        "\n",
        "    # Remove punctuations and numbers\n",
        "    sentence = re.sub('[^a-zA-Z]', ' ', sentence)\n",
        "\n",
        "    # Single character removal\n",
        "    sentence = re.sub(r\"\\s+[a-zA-Z]\\s+\", ' ', sentence)\n",
        "\n",
        "    # Removing multiple spaces\n",
        "    sentence = re.sub(r'\\s+', ' ', sentence)\n",
        "\n",
        "    return sentence"
      ],
      "execution_count": 4,
      "outputs": []
    },
    {
      "cell_type": "code",
      "metadata": {
        "id": "do0WKUqe1KK7"
      },
      "source": [
        "X = []\n",
        "sentences = list(dataset['review'])\n",
        "for sen in sentences:\n",
        "    X.append(preprocess_text(sen))"
      ],
      "execution_count": 5,
      "outputs": []
    },
    {
      "cell_type": "code",
      "metadata": {
        "colab": {
          "base_uri": "https://localhost:8080/"
        },
        "id": "r-jDF0nx1MNR",
        "outputId": "6ad520e1-f5fa-4751-f619-276e3d09d6fd"
      },
      "source": [
        "print(X[3])"
      ],
      "execution_count": 6,
      "outputs": [
        {
          "output_type": "stream",
          "text": [
            "Basically there a family where little boy Jake thinks there a zombie in his closet his parents are fighting all the time This movie is slower than soap opera and suddenly Jake decides to become Rambo and kill the zombie OK first of all when you re going to make film you must Decide if its thriller or drama As drama the movie is watchable Parents are divorcing arguing like in real life And then we have Jake with his closet which totally ruins all the film expected to see BOOGEYMAN similar movie and instead watched drama with some meaningless thriller spots out of just for the well playing parents descent dialogs As for the shots with Jake just ignore them \n"
          ],
          "name": "stdout"
        }
      ]
    },
    {
      "cell_type": "code",
      "metadata": {
        "id": "UQ63bhYel9a4"
      },
      "source": [
        "Y = dataset['sentiment']\n",
        "\n",
        "# when review is positive make it =1 , when it is negative make it =0\n",
        "Y = np.array(list(map(lambda x: 1 if x==\"positive\" else 0, Y)))"
      ],
      "execution_count": 7,
      "outputs": []
    },
    {
      "cell_type": "markdown",
      "metadata": {
        "id": "JbUjZCTXmDzN"
      },
      "source": [
        "# Splitting the data"
      ]
    },
    {
      "cell_type": "code",
      "metadata": {
        "id": "RJIRR1dgmKlR"
      },
      "source": [
        "from sklearn.model_selection import train_test_split\n",
        "X_train,X_test,Y_train,Y_test = train_test_split(X,Y,test_size=0.2,random_state=0)"
      ],
      "execution_count": 8,
      "outputs": []
    },
    {
      "cell_type": "markdown",
      "metadata": {
        "id": "phIqaW-jjeum"
      },
      "source": [
        "# Tokenization"
      ]
    },
    {
      "cell_type": "code",
      "metadata": {
        "id": "A2CuHq1pjkCm"
      },
      "source": [
        "#extract tokens from the text the number of tokens is 5000\n",
        "from keras.preprocessing.text import Tokenizer\n",
        "tokenizer = Tokenizer(num_words=20000)\n",
        "tokenizer.fit_on_texts(X_train)"
      ],
      "execution_count": 9,
      "outputs": []
    },
    {
      "cell_type": "code",
      "metadata": {
        "id": "sRn1sjdCjk0Q"
      },
      "source": [
        "# convert the text to a numeric sequence \n",
        "X_train = tokenizer.texts_to_sequences(X_train)\n",
        "X_test = tokenizer.texts_to_sequences(X_test)"
      ],
      "execution_count": 10,
      "outputs": []
    },
    {
      "cell_type": "code",
      "metadata": {
        "id": "f8Md95x2jop7",
        "colab": {
          "base_uri": "https://localhost:8080/"
        },
        "outputId": "642ce34c-0b0c-4800-c8fe-c3353a97d284"
      },
      "source": [
        "# Adding 1 because of reserved 0 index\n",
        "vocab_size = len(tokenizer.word_index) + 1\n",
        "\n",
        "print('Found %s unique tokens.' % vocab_size)"
      ],
      "execution_count": 11,
      "outputs": [
        {
          "output_type": "stream",
          "text": [
            "Found 92285 unique tokens.\n"
          ],
          "name": "stdout"
        }
      ]
    },
    {
      "cell_type": "code",
      "metadata": {
        "id": "6ZK5nx25jq4E"
      },
      "source": [
        "#max length of sequence\n",
        "from keras.preprocessing.sequence import pad_sequences\n",
        "maxlen = 256\n",
        "X_train = pad_sequences(X_train, padding='post', maxlen=maxlen)\n",
        "X_test = pad_sequences(X_test, padding='post', maxlen=maxlen)"
      ],
      "execution_count": 12,
      "outputs": []
    },
    {
      "cell_type": "code",
      "metadata": {
        "id": "q_VD7vqOjtKD"
      },
      "source": [
        "# importing the dictionary of words 'glove.6B.200d'\n",
        "from numpy import asarray\n",
        "embeddings_dictionary = dict()\n",
        "glove_file = open('./glove.6B.200d.txt', encoding=\"utf8\")\n",
        "\n",
        "for line in glove_file:\n",
        "    records = line.split(' ')\n",
        "    word = records[0]\n",
        "    vector_dimensions = asarray(records[1:], dtype='float32')\n",
        "    embeddings_dictionary [word] = vector_dimensions\n",
        "glove_file.close()"
      ],
      "execution_count": 13,
      "outputs": []
    },
    {
      "cell_type": "code",
      "metadata": {
        "id": "O1CccqKojwP2"
      },
      "source": [
        "from numpy import zeros\n",
        "embedding_matrix = zeros((vocab_size, 200))\n",
        "for word, index in tokenizer.word_index.items():\n",
        "    embedding_vector = embeddings_dictionary.get(word)\n",
        "    if embedding_vector is not None:\n",
        "        embedding_matrix[index] = embedding_vector"
      ],
      "execution_count": 14,
      "outputs": []
    },
    {
      "cell_type": "markdown",
      "metadata": {
        "id": "InIPDEq6j49l"
      },
      "source": [
        "# Building the LSTM model"
      ]
    },
    {
      "cell_type": "code",
      "metadata": {
        "id": "M1PEF3Y_j-Ej"
      },
      "source": [
        "from keras.models import Sequential\n",
        "from keras.layers.core import Activation, Dropout, Dense\n",
        "from keras.layers.embeddings import Embedding\n",
        "from keras.layers import Flatten, LSTM\n",
        "\n",
        "model = Sequential()\n",
        "embedding_layer = Embedding(vocab_size, 200,\n",
        "                            weights=[embedding_matrix],\n",
        "                            input_length=maxlen ,\n",
        "                            trainable=False)\n",
        "model.add(embedding_layer)\n",
        "model.add(LSTM(128,return_sequences=True,dropout=0.5))\n",
        "model.add(LSTM(32,dropout=0.5))\n",
        "model.add(Dense(1, activation='sigmoid'))\n",
        "model.compile(optimizer = 'adam',\n",
        "              loss = 'mean_squared_error',\n",
        "              metrics=['acc'])"
      ],
      "execution_count": 15,
      "outputs": []
    },
    {
      "cell_type": "code",
      "metadata": {
        "id": "q8hAE87vj-M5",
        "colab": {
          "base_uri": "https://localhost:8080/"
        },
        "outputId": "f319e788-3983-4f18-a435-5929c42b9a59"
      },
      "source": [
        "print(model.summary())"
      ],
      "execution_count": 16,
      "outputs": [
        {
          "output_type": "stream",
          "text": [
            "Model: \"sequential\"\n",
            "_________________________________________________________________\n",
            "Layer (type)                 Output Shape              Param #   \n",
            "=================================================================\n",
            "embedding (Embedding)        (None, 256, 200)          18457000  \n",
            "_________________________________________________________________\n",
            "lstm (LSTM)                  (None, 256, 128)          168448    \n",
            "_________________________________________________________________\n",
            "lstm_1 (LSTM)                (None, 32)                20608     \n",
            "_________________________________________________________________\n",
            "dense (Dense)                (None, 1)                 33        \n",
            "=================================================================\n",
            "Total params: 18,646,089\n",
            "Trainable params: 189,089\n",
            "Non-trainable params: 18,457,000\n",
            "_________________________________________________________________\n",
            "None\n"
          ],
          "name": "stdout"
        }
      ]
    },
    {
      "cell_type": "markdown",
      "metadata": {
        "id": "Feoo38GckBke"
      },
      "source": [
        "# Training the model"
      ]
    },
    {
      "cell_type": "code",
      "metadata": {
        "id": "WHV5UdSlkFzd",
        "colab": {
          "base_uri": "https://localhost:8080/"
        },
        "outputId": "28f30a93-1be4-41a2-9280-08a9ed45e6b4"
      },
      "source": [
        "trained_model = model.fit(X_train, Y_train, batch_size=128, epochs = 25, verbose=1, shuffle=False,validation_data=(X_test,Y_test))\n",
        "score = model.evaluate(X_test, Y_test, verbose=1)"
      ],
      "execution_count": 17,
      "outputs": [
        {
          "output_type": "stream",
          "text": [
            "Epoch 1/25\n",
            "313/313 [==============================] - 435s 1s/step - loss: 0.2471 - acc: 0.5272 - val_loss: 0.2411 - val_acc: 0.5620\n",
            "Epoch 2/25\n",
            "313/313 [==============================] - 426s 1s/step - loss: 0.2322 - acc: 0.6011 - val_loss: 0.1677 - val_acc: 0.7757\n",
            "Epoch 3/25\n",
            "313/313 [==============================] - 427s 1s/step - loss: 0.1428 - acc: 0.8038 - val_loss: 0.1350 - val_acc: 0.8123\n",
            "Epoch 4/25\n",
            "313/313 [==============================] - 428s 1s/step - loss: 0.1159 - acc: 0.8385 - val_loss: 0.1019 - val_acc: 0.8595\n",
            "Epoch 5/25\n",
            "313/313 [==============================] - 432s 1s/step - loss: 0.1072 - acc: 0.8514 - val_loss: 0.1108 - val_acc: 0.8502\n",
            "Epoch 6/25\n",
            "313/313 [==============================] - 425s 1s/step - loss: 0.1013 - acc: 0.8590 - val_loss: 0.1035 - val_acc: 0.8536\n",
            "Epoch 7/25\n",
            "313/313 [==============================] - 425s 1s/step - loss: 0.0973 - acc: 0.8661 - val_loss: 0.0960 - val_acc: 0.8713\n",
            "Epoch 8/25\n",
            "313/313 [==============================] - 428s 1s/step - loss: 0.0929 - acc: 0.8722 - val_loss: 0.0937 - val_acc: 0.8687\n",
            "Epoch 9/25\n",
            "313/313 [==============================] - 429s 1s/step - loss: 0.0909 - acc: 0.8761 - val_loss: 0.0909 - val_acc: 0.8761\n",
            "Epoch 10/25\n",
            "313/313 [==============================] - 427s 1s/step - loss: 0.0861 - acc: 0.8819 - val_loss: 0.0904 - val_acc: 0.8751\n",
            "Epoch 11/25\n",
            "313/313 [==============================] - 428s 1s/step - loss: 0.0843 - acc: 0.8861 - val_loss: 0.0861 - val_acc: 0.8819\n",
            "Epoch 12/25\n",
            "313/313 [==============================] - 426s 1s/step - loss: 0.0823 - acc: 0.8881 - val_loss: 0.0809 - val_acc: 0.8900\n",
            "Epoch 13/25\n",
            "313/313 [==============================] - 425s 1s/step - loss: 0.0799 - acc: 0.8905 - val_loss: 0.0834 - val_acc: 0.8860\n",
            "Epoch 14/25\n",
            "313/313 [==============================] - 426s 1s/step - loss: 0.0770 - acc: 0.8951 - val_loss: 0.0781 - val_acc: 0.8946\n",
            "Epoch 15/25\n",
            "313/313 [==============================] - 423s 1s/step - loss: 0.0754 - acc: 0.8981 - val_loss: 0.0815 - val_acc: 0.8907\n",
            "Epoch 16/25\n",
            "313/313 [==============================] - 424s 1s/step - loss: 0.0758 - acc: 0.8969 - val_loss: 0.0785 - val_acc: 0.8914\n",
            "Epoch 17/25\n",
            "313/313 [==============================] - 424s 1s/step - loss: 0.0729 - acc: 0.9013 - val_loss: 0.0751 - val_acc: 0.8987\n",
            "Epoch 18/25\n",
            "313/313 [==============================] - 423s 1s/step - loss: 0.0720 - acc: 0.9018 - val_loss: 0.0768 - val_acc: 0.8982\n",
            "Epoch 19/25\n",
            "313/313 [==============================] - 422s 1s/step - loss: 0.0700 - acc: 0.9063 - val_loss: 0.0769 - val_acc: 0.9005\n",
            "Epoch 20/25\n",
            "313/313 [==============================] - 423s 1s/step - loss: 0.0691 - acc: 0.9076 - val_loss: 0.0718 - val_acc: 0.9060\n",
            "Epoch 21/25\n",
            "313/313 [==============================] - 423s 1s/step - loss: 0.0678 - acc: 0.9104 - val_loss: 0.0728 - val_acc: 0.9042\n",
            "Epoch 22/25\n",
            "313/313 [==============================] - 424s 1s/step - loss: 0.0641 - acc: 0.9142 - val_loss: 0.0731 - val_acc: 0.9038\n",
            "Epoch 23/25\n",
            "313/313 [==============================] - 424s 1s/step - loss: 0.0649 - acc: 0.9134 - val_loss: 0.0696 - val_acc: 0.9068\n",
            "Epoch 24/25\n",
            "313/313 [==============================] - 424s 1s/step - loss: 0.0625 - acc: 0.9181 - val_loss: 0.0705 - val_acc: 0.9075\n",
            "Epoch 25/25\n",
            "313/313 [==============================] - 422s 1s/step - loss: 0.0613 - acc: 0.9196 - val_loss: 0.0736 - val_acc: 0.9020\n",
            "313/313 [==============================] - 49s 158ms/step - loss: 0.0736 - acc: 0.9020\n"
          ],
          "name": "stdout"
        }
      ]
    },
    {
      "cell_type": "markdown",
      "metadata": {
        "id": "eQF3TowtrWhr"
      },
      "source": [
        "#Confusion matrix"
      ]
    },
    {
      "cell_type": "code",
      "metadata": {
        "colab": {
          "base_uri": "https://localhost:8080/"
        },
        "id": "EitQVoOTraCo",
        "outputId": "def84d2c-6590-4b0b-8f33-ba8fe67833dc"
      },
      "source": [
        "from sklearn.metrics import confusion_matrix,classification_report\n",
        "y_pred = model.predict(X_test)\n",
        "y_pred = (y_pred > 0.5)\n",
        "cm =confusion_matrix(y_pred, Y_test)\n",
        "cm\n",
        "print(classification_report(y_pred,Y_test))"
      ],
      "execution_count": 18,
      "outputs": [
        {
          "output_type": "stream",
          "text": [
            "              precision    recall  f1-score   support\n",
            "\n",
            "       False       0.86      0.94      0.90      4629\n",
            "        True       0.94      0.87      0.91      5371\n",
            "\n",
            "    accuracy                           0.90     10000\n",
            "   macro avg       0.90      0.90      0.90     10000\n",
            "weighted avg       0.91      0.90      0.90     10000\n",
            "\n"
          ],
          "name": "stdout"
        }
      ]
    },
    {
      "cell_type": "code",
      "metadata": {
        "id": "iYCOtD6RkOFZ",
        "colab": {
          "base_uri": "https://localhost:8080/"
        },
        "outputId": "a802a623-0c94-4c55-a88f-dbc2c15c96e7"
      },
      "source": [
        "results = model.evaluate(X_test,Y_test,batch_size=128)"
      ],
      "execution_count": 19,
      "outputs": [
        {
          "output_type": "stream",
          "text": [
            "79/79 [==============================] - 34s 436ms/step - loss: 0.0736 - acc: 0.9020\n"
          ],
          "name": "stdout"
        }
      ]
    },
    {
      "cell_type": "markdown",
      "metadata": {
        "id": "7knZldj3kQ1t"
      },
      "source": [
        "# Learning Curves"
      ]
    },
    {
      "cell_type": "code",
      "metadata": {
        "id": "fMr6UNfXkXeM"
      },
      "source": [
        "def plot_learningCurve(trained_model, epochs):\n",
        "  # Plot training & validation accuracy values\n",
        "  epoch_range = range(1, epochs+1)\n",
        "  plt.plot(epoch_range, trained_model.history['acc'])\n",
        "  plt.plot(epoch_range, trained_model.history['val_acc'])\n",
        "  plt.title('Model accuracy')\n",
        "  plt.ylabel('Accuracy')\n",
        "  plt.xlabel('Epoch')\n",
        "  plt.legend(['Train', 'Val'], loc='upper left')\n",
        "  plt.show()\n",
        "\n",
        "  # Plot training & validation loss values\n",
        "  plt.plot(epoch_range, trained_model.history['loss'])\n",
        "  plt.plot(epoch_range, trained_model.history['val_loss'])\n",
        "\n",
        "  plt.title('Model loss')\n",
        "  plt.ylabel('Loss')\n",
        "  plt.xlabel('Epoch')\n",
        "  plt.legend(['Train', 'Val'], loc='upper left')\n",
        "  plt.show()"
      ],
      "execution_count": 20,
      "outputs": []
    },
    {
      "cell_type": "code",
      "metadata": {
        "id": "dhhGrwBLkYYZ",
        "colab": {
          "base_uri": "https://localhost:8080/",
          "height": 573
        },
        "outputId": "d2f31163-e968-4ba7-91ee-266cb8f90163"
      },
      "source": [
        "plot_learningCurve(trained_model, 25)"
      ],
      "execution_count": 21,
      "outputs": [
        {
          "output_type": "display_data",
          "data": {
            "image/png": "[encoded data removed]",
            "text/plain": [
              "<Figure size 432x288 with 1 Axes>"
            ]
          },
          "metadata": {
            "needs_background": "light"
          }
        },
        {
          "output_type": "display_data",
          "data": {
            "image/png": "[encoded data removed]",
            "text/plain": [
              "<Figure size 432x288 with 1 Axes>"
            ]
          },
          "metadata": {
            "needs_background": "light"
          }
        }
      ]
    },
    {
      "cell_type": "code",
      "metadata": {
        "colab": {
          "base_uri": "https://localhost:8080/"
        },
        "id": "qlCOmGGmebvb",
        "outputId": "4930e40b-4486-4217-f606-33c06aaeb351"
      },
      "source": [
        "from sklearn.metrics import precision_score , recall_score, f1_score\n",
        "print(f1_score(Y_test,y_pred))\n",
        "print('f1------')\n",
        "print(recall_score(Y_test,y_pred))\n",
        "print('RECAL------')\n",
        "print(precision_score(Y_test,y_pred))\n",
        "print('PRECISION------')"
      ],
      "execution_count": 22,
      "outputs": [
        {
          "output_type": "stream",
          "text": [
            "0.9051857585139319\n",
            "f1------\n",
            "0.942195367573011\n",
            "RECAL------\n",
            "0.870973747905418\n",
            "PRECISION------\n"
          ],
          "name": "stdout"
        }
      ]
    }
  ]
}